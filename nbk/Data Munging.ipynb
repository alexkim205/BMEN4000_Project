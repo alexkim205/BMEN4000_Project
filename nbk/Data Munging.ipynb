{
 "cells": [
  {
   "cell_type": "markdown",
   "metadata": {},
   "source": [
    "### Get label information\n",
    "\n",
    "Validation and test data were combined and split evenly, as the given data sets for validation and testing were inherently skewed. There were 0 viral pneumonia images and only 17 images total in the given validation data set, while the testing data set had 234, 242, and 148 images for normal, bacterial, and viral cases.\n",
    "\n",
    "To normalize different data set sizes, a random selection of the minimum number of images for a label type was selected. \n",
    "\n",
    "Before normalizing, the sizes of the datasets (normal, bacterial, viral) were:\n",
    "* train - [1342, 2530, 1345]\n",
    "* validate - [9, 8, 0]\n",
    "* test - [234, 242, 148]\n",
    "\n",
    "After normalizing:\n",
    "* train - [1342, 1342, 1342]\n",
    "* validate - [74, 74, 74]\n",
    "* test - [74, 74, 74]"
   ]
  },
  {
   "cell_type": "code",
   "execution_count": 1,
   "metadata": {},
   "outputs": [],
   "source": [
    "import tensorflow as tf\n",
    "from tensorflow.keras.applications import Xception, InceptionV3\n",
    "from tensorflow.keras.layers import GlobalAveragePooling2D\n",
    "import tensorflow.contrib.eager as tfe\n",
    "from matplotlib import pyplot as plt\n",
    "import numpy as np\n",
    "import pickle \n",
    "\n",
    "%matplotlib inline\n",
    "tf.enable_eager_execution()\n",
    "\n",
    "import csv\n",
    "import os\n",
    "import glob\n",
    "import random"
   ]
  },
  {
   "cell_type": "code",
   "execution_count": 2,
   "metadata": {
    "scrolled": true
   },
   "outputs": [
    {
     "data": {
      "image/png": "[encoded data removed]",
      "text/plain": [
       "<Figure size 432x288 with 1 Axes>"
      ]
     },
     "metadata": {},
     "output_type": "display_data"
    },
    {
     "data": {
      "image/png": "[encoded data removed]",
      "text/plain": [
       "<Figure size 432x288 with 1 Axes>"
      ]
     },
     "metadata": {},
     "output_type": "display_data"
    },
    {
     "data": {
      "image/png": "[encoded data removed]",
      "text/plain": [
       "<Figure size 432x288 with 1 Axes>"
      ]
     },
     "metadata": {},
     "output_type": "display_data"
    }
   ],
   "source": [
    "TRAIN_PATH = '/home/final/data/train'\n",
    "VALIDATE_TEST_PATH = '/home/final/data/val_test'\n",
    "# VALIDATE_PATH = '/home/final/data/val'\n",
    "# TEST_PATH = '/home/final/data/test'\n",
    "zipped_data = []\n",
    "\n",
    "for i, ROOT_PATH in enumerate([TRAIN_PATH, VALIDATE_TEST_PATH]):\n",
    "\n",
    "    NORMAL_PATH = os.path.join(ROOT_PATH, 'NORMAL')\n",
    "    PNEUMONIA_PATH = os.path.join(ROOT_PATH, 'PNEUMONIA')\n",
    "    EXT = '.jpeg'\n",
    "\n",
    "    file_paths = []\n",
    "    labels = ['normal', 'bacteria' ,'virus']\n",
    "\n",
    "    normal_files = glob.glob(os.path.join(NORMAL_PATH, '*.jpeg'))\n",
    "    bacteria_files = glob.glob(os.path.join(PNEUMONIA_PATH, '*bacteria*.jpeg'))\n",
    "    virus_files = glob.glob(os.path.join(PNEUMONIA_PATH, '*virus*.jpeg'))\n",
    "    random.shuffle(normal_files)\n",
    "    random.shuffle(bacteria_files)\n",
    "    random.shuffle(virus_files)\n",
    "    \n",
    "    n_norm = len(normal_files)\n",
    "    n_bact = len(bacteria_files)\n",
    "    n_viru = len(virus_files)\n",
    "\n",
    "     # \n",
    "    if i == 0: \n",
    "        # if training data, normalize data set sizes to min of three labels\n",
    "        minimum = min(n_norm, n_bact, n_viru)\n",
    "        fps = normal_files[:minimum] + bacteria_files[:minimum] + virus_files[:minimum]\n",
    "        labels = minimum * [0] + minimum * [1] + minimum * [2]\n",
    "        zipped_data.append(list(zip(fps, labels)))\n",
    "        \n",
    "        objects = ('Normal', 'Bacterial', 'Viral')\n",
    "        y_pos = np.arange(len(objects))\n",
    "        performance = [minimum, minimum, minimum]\n",
    "\n",
    "        plt.bar(y_pos, performance, align='center', alpha=0.5)\n",
    "        plt.xticks(y_pos, objects)\n",
    "        plt.xlabel('Label')\n",
    "        plt.title('Pneumonia label breakdown for training images')\n",
    "        plt.show()\n",
    "        \n",
    "    elif i == 1:\n",
    "        # if validation or testing data, combine and split into two \n",
    "        minimum = int(min(n_norm, n_bact, n_viru)//2)\n",
    "        fps_val = normal_files[:minimum] + bacteria_files[:minimum] + virus_files[:minimum]\n",
    "        fps_tst = normal_files[(minimum+1):(2*minimum)] + bacteria_files[(minimum+1):(2*minimum)] + virus_files[(minimum+1):(2*minimum)]\n",
    "        lbl_val = minimum * [0] + minimum * [1] + minimum * [2]\n",
    "        lbl_tst = minimum * [0] + minimum * [1] + minimum * [2]\n",
    "        \n",
    "        zipped_data.append(list(zip(fps_val, lbl_val)))\n",
    "        zipped_data.append(list(zip(fps_tst, lbl_tst)))\n",
    "        \n",
    "        objects = ('Normal', 'Bacterial', 'Viral')\n",
    "        y_pos = np.arange(len(objects))\n",
    "        performance = [minimum, minimum, minimum]\n",
    "\n",
    "        plt.bar(y_pos, performance, align='center', alpha=0.5)\n",
    "        plt.xticks(y_pos, objects)\n",
    "        plt.xlabel('Label')\n",
    "        plt.title('Pneumonia label breakdown for validating images')\n",
    "        plt.show()\n",
    "        plt.bar(y_pos, performance, align='center', alpha=0.5)\n",
    "        plt.xticks(y_pos, objects)\n",
    "        plt.xlabel('Label')\n",
    "        plt.title('Pneumonia label breakdown for testing images')\n",
    "        plt.show()\n",
    "    \n",
    "\n",
    "    "
   ]
  },
  {
   "cell_type": "markdown",
   "metadata": {},
   "source": [
    "## Setting up dataset and saving bottlenecks"
   ]
  },
  {
   "cell_type": "code",
   "execution_count": 12,
   "metadata": {},
   "outputs": [],
   "source": [
    "# class XceptionBottleneck(tf.keras.Model):    \n",
    "class InceptionBottleneck(tf.keras.Model):\n",
    "    def __init__(self):\n",
    "        #super(XceptionBottleneck, self).__init__()\n",
    "        super(InceptionBottleneck, self).__init__()\n",
    "        # self.xception_layers = Xception(include_top=False, weights='imagenet')\n",
    "        self.inception_layers = InceptionV3(include_top=False, weights='imagenet')\n",
    "        self.pooling_layer = GlobalAveragePooling2D(data_format='channels_last')\n",
    "    \n",
    "    def call(self, inputs):\n",
    "        # result = self.xception_layers(inputs)\n",
    "        result = self.inception_layers(inputs)\n",
    "        result = self.pooling_layer(result)\n",
    "        return result\n",
    "    \n",
    "def cache_bottleneck_layers(paths, batch_size, device):\n",
    "    dataset = create_dataset_fmr_images(paths).batch(batch_size)\n",
    "    bottle_necks = []\n",
    "    n_samples = len(file_paths)\n",
    "    \n",
    "    with tf.device(device):\n",
    "        inception_out = InceptionBottleneck()\n",
    "        for batch_num, image in enumerate(dataset):\n",
    "            print('\\rComputing bottle neck layers... batch {} of {}'.format(batch_num+1, n_samples//batch_size), end=\"\")\n",
    "            # Compute bottle necks layer for image batch convert to numpy and append to bottle_necks\n",
    "            bottle_necks.append(np.array(inception_out(image)))\n",
    "\n",
    "    return np.vstack(bottle_necks)\n",
    "\n",
    "def create_dataset_fmr_images(file_paths):\n",
    "    # Reads an image from a file, decodes it into a dense tensor, and resizes it\n",
    "    # to a fixed shape. Read more here: https://www.tensorflow.org/guide/datasets#decoding_image_data_and_resizing_it\n",
    "    def _parse_function(filename):\n",
    "        \n",
    "        # Create tensor from image and resize to 200 x 200\n",
    "        image_string = tf.read_file(filename)\n",
    "        image_decoded = tf.image.decode_jpeg(image_string)\n",
    "        image_resized = tf.image.resize_images(image_decoded, [300, 300])\n",
    "        image_tensor = tf.convert_to_tensor(image_resized)\n",
    "        \n",
    "        # Convert image to rgb if grayscale\n",
    "        # https://stackoverflow.com/questions/54884305/tensorflow-convert-image-to-rgb-if-grayscale\n",
    "        image_rgb = tf.cond(tf.equal(tf.shape(image_tensor)[2], 1),\n",
    "                           lambda: tf.image.grayscale_to_rgb(image_tensor),\n",
    "                           lambda: tf.identity(image_tensor))\n",
    "        \n",
    "        # Add shape information\n",
    "        s = image_tensor.shape\n",
    "        image_rgb.set_shape((300,300,3))\n",
    "\n",
    "        return image_rgb\n",
    "    \n",
    "    def _generate_data(filename):\n",
    "        # Create tensor from image and resize to 200 x 200\n",
    "        image_string = tf.read_file(filename)\n",
    "        image_decoded = tf.image.decode_jpeg(image_string)\n",
    "        image_resized = tf.image.resize_images(image_decoded, [300, 300])\n",
    "        image_augmented = tf.image.flip_left_right(image_resized)\n",
    "        image_augmented = tf.image.random_brightness(image_augmented, max_delta=0.5)\n",
    "        image_augmented = tf.contrib.image.rotate(image_augmented, angles=20)\n",
    "        image_tensor = tf.convert_to_tensor(image_augmented)\n",
    "        \n",
    "        # Convert image to rgb if grayscale\n",
    "        # https://stackoverflow.com/questions/54884305/tensorflow-convert-image-to-rgb-if-grayscale\n",
    "        image_rgb = tf.cond(tf.equal(tf.shape(image_tensor)[2], 1),\n",
    "                           lambda: tf.image.grayscale_to_rgb(image_tensor),\n",
    "                           lambda: tf.identity(image_tensor))\n",
    "        \n",
    "        # Add shape information\n",
    "        s = image_tensor.shape\n",
    "        image_rgb.set_shape((300,300,3))\n",
    "\n",
    "        return image_rgb\n",
    "    \n",
    "    file_paths = tf.constant(file_paths)\n",
    "    dataset = tf.data.Dataset.from_tensor_slices((file_paths))\n",
    "    \n",
    "    augmented_dataset = dataset.map(_generate_data)\n",
    "    print(augmented_dataset)\n",
    "    dataset = dataset.map(_parse_function)\n",
    "    print(dataset)\n",
    "    dataset.concatenate(augmented_dataset)\n",
    "    return dataset"
   ]
  },
  {
   "cell_type": "code",
   "execution_count": 13,
   "metadata": {},
   "outputs": [],
   "source": [
    "def paired_shuffle(zipped):\n",
    "    c = zipped\n",
    "    random.shuffle(c)\n",
    "    return zip(*c)\n",
    "\n",
    "train_paths, train_labels = paired_shuffle(zipped_data[0])\n",
    "validate_paths, validate_labels = paired_shuffle(zipped_data[1])\n",
    "test_paths, test_labels = paired_shuffle(zipped_data[2])\n",
    "\n",
    "device = \"gpu:0\" if tfe.num_gpus() else \"cpu:0\""
   ]
  },
  {
   "cell_type": "code",
   "execution_count": 19,
   "metadata": {
    "scrolled": true
   },
   "outputs": [
    {
     "name": "stdout",
     "output_type": "stream",
     "text": [
      "Computing bottle neck layers... batch 5 of 800"
     ]
    }
   ],
   "source": [
    "cache_path = \"/home/final/data/cache/\"\n",
    "fname = '{}.bottle_necks.labels.paths.npz'\n",
    "\n",
    "if not os.path.isdir(cache_path): \n",
    "    os.mkdir(cache_path)\n",
    "\n",
    "train_bottle_necks = cache_bottleneck_layers(train_paths, batch_size=50, device=device)\n",
    "np.savez(os.path.join(cache_path,fname.format('train')), bottle_necks=train_bottle_necks, paths=train_paths, labels=train_labels)\n",
    "\n",
    "validate_bottle_necks = cache_bottleneck_layers(validate_paths, batch_size=50, device=device)\n",
    "np.savez(os.path.join(cache_path,fname.format('validate')), bottle_necks=validate_bottle_necks, paths=validate_paths, labels=validate_labels)\n",
    "\n",
    "test_bottle_necks = cache_bottleneck_layers(test_paths, batch_size=50, device=device)\n",
    "np.savez(os.path.join(cache_path,fname.format('test')), bottle_necks=test_bottle_necks, paths=test_paths, labels=test_labels)"
   ]
  }
 ],
 "metadata": {
  "kernelspec": {
   "display_name": "Python 3",
   "language": "python",
   "name": "python3"
  },
  "language_info": {
   "codemirror_mode": {
    "name": "ipython",
    "version": 3
   },
   "file_extension": ".py",
   "mimetype": "text/x-python",
   "name": "python",
   "nbconvert_exporter": "python",
   "pygments_lexer": "ipython3",
   "version": "3.5.3"
  }
 },
 "nbformat": 4,
 "nbformat_minor": 2
}
